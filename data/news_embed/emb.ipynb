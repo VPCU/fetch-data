{
 "cells": [
  {
   "cell_type": "code",
   "execution_count": 34,
   "metadata": {},
   "outputs": [],
   "source": [
    "from sentence_transformers import SentenceTransformer\n",
    "model = SentenceTransformer('paraphrase-multilingual-MiniLM-L12-v2')\n"
   ]
  },
  {
   "cell_type": "code",
   "execution_count": null,
   "metadata": {},
   "outputs": [],
   "source": [
    "#Our sentences we like to encode\n",
    "sentences = ['This framework generates embeddings for each input sentence',\n",
    "    'Sentences are passed as a list of string.',\n",
    "    'The quick brown fox jumps over the lazy dog.']\n",
    "\n",
    "#Sentences are encoded by calling model.encode()\n",
    "embeddings = model.encode(sentences)\n",
    "\n",
    "#Print the embeddings\n",
    "for sentence, embedding in zip(sentences, embeddings):\n",
    "    print(\"Sentence:\", sentence)\n",
    "    print(\"Embedding:\", embedding)\n",
    "    print(\"\")\n",
    "\n"
   ]
  },
  {
   "cell_type": "code",
   "execution_count": 66,
   "metadata": {},
   "outputs": [],
   "source": [
    "import pandas as pd\n",
    "df = pd.read_pickle('../news_row/2021-9.pkl')"
   ]
  },
  {
   "cell_type": "code",
   "execution_count": 67,
   "metadata": {},
   "outputs": [],
   "source": [
    "def text_wrap(text):\n",
    "    if not text:\n",
    "        text = ''\n",
    "    return text.replace('######','').replace('<p>', '').replace('</p>', '').replace('&nbsp;', '') + '  '\n",
    "\n"
   ]
  },
  {
   "cell_type": "code",
   "execution_count": 68,
   "metadata": {},
   "outputs": [],
   "source": [
    "rs = pd.DataFrame()\n",
    "rs['title'] = df['title']\n",
    "rs['text'] = df['summary'].map(text_wrap)+df['content'].map(text_wrap)"
   ]
  },
  {
   "cell_type": "code",
   "execution_count": 69,
   "metadata": {},
   "outputs": [
    {
     "data": {
      "text/html": [
       "<div>\n",
       "<style scoped>\n",
       "    .dataframe tbody tr th:only-of-type {\n",
       "        vertical-align: middle;\n",
       "    }\n",
       "\n",
       "    .dataframe tbody tr th {\n",
       "        vertical-align: top;\n",
       "    }\n",
       "\n",
       "    .dataframe thead th {\n",
       "        text-align: right;\n",
       "    }\n",
       "</style>\n",
       "<table border=\"1\" class=\"dataframe\">\n",
       "  <thead>\n",
       "    <tr style=\"text-align: right;\">\n",
       "      <th></th>\n",
       "      <th>title</th>\n",
       "      <th>text</th>\n",
       "    </tr>\n",
       "  </thead>\n",
       "  <tbody>\n",
       "    <tr>\n",
       "      <th>0</th>\n",
       "      <td>嘉元科技出现1笔大宗交易 折价率为0.24%</td>\n",
       "      <td>8月31日讯，嘉元科技出现1笔大宗交易。成交价格为111.49元,成交金额为303.7099...</td>\n",
       "    </tr>\n",
       "    <tr>\n",
       "      <th>1</th>\n",
       "      <td>中简科技出现1笔大宗交易 折价率为19.16%</td>\n",
       "      <td>8月31日讯，中简科技出现1笔大宗交易。成交价格为38.48元,成交金额为1299.85万元...</td>\n",
       "    </tr>\n",
       "    <tr>\n",
       "      <th>2</th>\n",
       "      <td>美国培训空姐练武术对付愤怒乘客</td>\n",
       "      <td>民航资源网2021年8月31日消息：据央视网报道，近日，美国航司发现，航班上因“愤怒的乘客”...</td>\n",
       "    </tr>\n",
       "    <tr>\n",
       "      <th>3</th>\n",
       "      <td>重庆机场集团换帅，总经理戴科接棒</td>\n",
       "      <td>民航资源网2021年8月31日消息：8月30日，重庆机场集团发布关于公司董事长发生变动的公告...</td>\n",
       "    </tr>\n",
       "    <tr>\n",
       "      <th>4</th>\n",
       "      <td>机票“秒退”、行李收费差异化……9月起乘机出行将有这些变化</td>\n",
       "      <td>机票退款慢、投诉渠道不通畅、行李托运费用贵……针对旅客乘机出行的难点、痛点，民航局颁布《公共...</td>\n",
       "    </tr>\n",
       "    <tr>\n",
       "      <th>...</th>\n",
       "      <td>...</td>\n",
       "      <td>...</td>\n",
       "    </tr>\n",
       "    <tr>\n",
       "      <th>147560</th>\n",
       "      <td>​李克强会见2020和2021年度中国政府友谊奖获奖外国专家</td>\n",
       "      <td>李克强会见2020和2021年度中国政府友谊奖获奖外国专家韩正参加会见国务院总理李克强9月3...</td>\n",
       "    </tr>\n",
       "    <tr>\n",
       "      <th>147561</th>\n",
       "      <td>李克强会见28国新任驻华使节</td>\n",
       "      <td>李克强会见28国新任驻华使节强调中国的发展始终在改革中推进、在开放中前行在中华人民共和国成立...</td>\n",
       "    </tr>\n",
       "    <tr>\n",
       "      <th>147562</th>\n",
       "      <td>9月30日电，美国财长耶伦称，在10月18日触及债务上限的情况下，美国(距离发生债务违约)可...</td>\n",
       "      <td>9月30日电，美国财长耶伦称，在10月18日触及债务上限的情况下，美国(距离发生债务违约)可...</td>\n",
       "    </tr>\n",
       "    <tr>\n",
       "      <th>147563</th>\n",
       "      <td>美股三大股指悉数转跌</td>\n",
       "      <td>9月30日电，美股高开低走，三大股指悉数转跌，道指现跌0.88%，标普500指数跌0.5%；...</td>\n",
       "    </tr>\n",
       "    <tr>\n",
       "      <th>147564</th>\n",
       "      <td>道指跌超0.5%</td>\n",
       "      <td>9月30日电，道指下跌180点，跌幅扩大至超过0.5%，成分股WBA、波音跌1.8%，卡特彼...</td>\n",
       "    </tr>\n",
       "  </tbody>\n",
       "</table>\n",
       "<p>147565 rows × 2 columns</p>\n",
       "</div>"
      ],
      "text/plain": [
       "                                                    title  \\\n",
       "0                                  嘉元科技出现1笔大宗交易 折价率为0.24%   \n",
       "1                                 中简科技出现1笔大宗交易 折价率为19.16%   \n",
       "2                                         美国培训空姐练武术对付愤怒乘客   \n",
       "3                                        重庆机场集团换帅，总经理戴科接棒   \n",
       "4                           机票“秒退”、行李收费差异化……9月起乘机出行将有这些变化   \n",
       "...                                                   ...   \n",
       "147560                     ​李克强会见2020和2021年度中国政府友谊奖获奖外国专家   \n",
       "147561                                     李克强会见28国新任驻华使节   \n",
       "147562  9月30日电，美国财长耶伦称，在10月18日触及债务上限的情况下，美国(距离发生债务违约)可...   \n",
       "147563                                         美股三大股指悉数转跌   \n",
       "147564                                           道指跌超0.5%   \n",
       "\n",
       "                                                     text  \n",
       "0       8月31日讯，嘉元科技出现1笔大宗交易。成交价格为111.49元,成交金额为303.7099...  \n",
       "1       8月31日讯，中简科技出现1笔大宗交易。成交价格为38.48元,成交金额为1299.85万元...  \n",
       "2       民航资源网2021年8月31日消息：据央视网报道，近日，美国航司发现，航班上因“愤怒的乘客”...  \n",
       "3       民航资源网2021年8月31日消息：8月30日，重庆机场集团发布关于公司董事长发生变动的公告...  \n",
       "4       机票退款慢、投诉渠道不通畅、行李托运费用贵……针对旅客乘机出行的难点、痛点，民航局颁布《公共...  \n",
       "...                                                   ...  \n",
       "147560  李克强会见2020和2021年度中国政府友谊奖获奖外国专家韩正参加会见国务院总理李克强9月3...  \n",
       "147561  李克强会见28国新任驻华使节强调中国的发展始终在改革中推进、在开放中前行在中华人民共和国成立...  \n",
       "147562  9月30日电，美国财长耶伦称，在10月18日触及债务上限的情况下，美国(距离发生债务违约)可...  \n",
       "147563  9月30日电，美股高开低走，三大股指悉数转跌，道指现跌0.88%，标普500指数跌0.5%；...  \n",
       "147564  9月30日电，道指下跌180点，跌幅扩大至超过0.5%，成分股WBA、波音跌1.8%，卡特彼...  \n",
       "\n",
       "[147565 rows x 2 columns]"
      ]
     },
     "execution_count": 69,
     "metadata": {},
     "output_type": "execute_result"
    }
   ],
   "source": [
    "rs"
   ]
  },
  {
   "cell_type": "code",
   "execution_count": 70,
   "metadata": {},
   "outputs": [],
   "source": [
    "import gensim\n",
    "import jieba\n",
    "import pandas as pd\n",
    "import os\n",
    "from gensim.models.doc2vec import Doc2Vec, TaggedDocument"
   ]
  },
  {
   "cell_type": "code",
   "execution_count": 74,
   "metadata": {},
   "outputs": [],
   "source": [
    "def cut(t):\n",
    "    # stopwords = [line[:-1] for line in open('stopwords.txt', encoding='utf-8')]\n",
    "    result = []\n",
    "    for i in t:\n",
    "        i_c = jieba.cut(i)\n",
    "        i_c = list(i_c)\n",
    "        # i_c = [i for i in i_c if i not in stopwords]\n",
    "        result.append(i_c)\n",
    "    return result\n",
    "\n",
    "def prepare_doc2vec(data):\n",
    "    result = []\n",
    "    for i, t in enumerate(data):\n",
    "        l = len(t)\n",
    "        if l == 0:\n",
    "            continue\n",
    "        t[l-1] = t[l-1].strip()\n",
    "        documents = TaggedDocument(t, [i])\n",
    "        result.append(documents)\n",
    "    return result\n",
    "\n",
    "def train(data, size=300):\n",
    "    model = Doc2Vec(data, window=5, vector_size=size, min_count=1, workers=12)\n",
    "    model.train(data, total_examples=model.corpus_count, epochs=10)\n",
    "    return model\n",
    "\n"
   ]
  },
  {
   "cell_type": "code",
   "execution_count": 75,
   "metadata": {},
   "outputs": [
    {
     "data": {
      "text/plain": [
       "array([[-0.01718042,  0.0315343 ,  0.00023681, ..., -0.03623222,\n",
       "         0.0331271 , -0.02939493],\n",
       "       [-0.02119157,  0.01837072,  0.02011241, ..., -0.02334457,\n",
       "        -0.01449429, -0.01363768],\n",
       "       [-0.04252871, -0.00404154, -0.02762956, ..., -0.04628174,\n",
       "        -0.04922506, -0.0807714 ],\n",
       "       ...,\n",
       "       [ 0.00780422, -0.00705105,  0.08866067, ..., -0.21525773,\n",
       "         0.07330853,  0.17235218],\n",
       "       [-0.0094067 ,  0.02352455, -0.00801573, ..., -0.02858238,\n",
       "         0.01358339, -0.02961554],\n",
       "       [-0.02622276,  0.00687354,  0.00039805, ..., -0.0353792 ,\n",
       "         0.00774546, -0.02699653]], dtype=float32)"
      ]
     },
     "execution_count": 75,
     "metadata": {},
     "output_type": "execute_result"
    }
   ],
   "source": [
    "m = train(prepare_doc2vec(cut(rs['title'])))\n",
    "m.dv.vectors"
   ]
  },
  {
   "cell_type": "code",
   "execution_count": 76,
   "metadata": {},
   "outputs": [],
   "source": [
    "import numpy as np\n",
    "np.save('2021-9.npy', m.dv.vectors)"
   ]
  }
 ],
 "metadata": {
  "interpreter": {
   "hash": "0071343608f363857e10d141e101793c21b3a1644f82a6780bbc96c174907ea2"
  },
  "kernelspec": {
   "display_name": "Python 3.7.11 64-bit ('transformers': conda)",
   "language": "python",
   "name": "python3"
  },
  "language_info": {
   "codemirror_mode": {
    "name": "ipython",
    "version": 3
   },
   "file_extension": ".py",
   "mimetype": "text/x-python",
   "name": "python",
   "nbconvert_exporter": "python",
   "pygments_lexer": "ipython3",
   "version": "3.7.11"
  },
  "orig_nbformat": 4
 },
 "nbformat": 4,
 "nbformat_minor": 2
}
