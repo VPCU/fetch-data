{
 "cells": [
  {
   "cell_type": "code",
   "execution_count": 1,
   "metadata": {},
   "outputs": [],
   "source": [
    "import pandas as pd\n",
    "import scipy as sc\n",
    "import networkx as nx\n",
    "import numpy as np\n",
    "import json\n",
    "import os\n",
    "from tqdm import tqdm"
   ]
  },
  {
   "cell_type": "code",
   "execution_count": 13,
   "metadata": {},
   "outputs": [],
   "source": [
    "feat_dim = 300\n",
    "\n",
    "def text_wrap(text):\n",
    "    return text.replace('######','') + '  '\n",
    "\n",
    "def rel_orgs_wrap(text):\n",
    "    return text.split('|') if text else []\n",
    "\n",
    "node_dic = {}\n",
    "def to_feat(k):\n",
    "    if isinstance(k, int):\n",
    "        # Document node\n",
    "        return G.nodes[k]['feat']\n",
    "    else:\n",
    "        # Stock node\n",
    "        return np.zeros(feat_dim)\n",
    "\n",
    "class NewsDataSet:\n",
    "  def __init__(self, row_path, feat_path, data_path_list):\n",
    "    self.row_path = row_path\n",
    "    self.feat_path = feat_path\n",
    "    self.data_path_list = data_path_list\n",
    "    self.index = 0\n",
    "    #if len(self.X) != len(self.Y):\n",
    "    #  raise Exception(\"The length of X does not match the length of Y\")\n",
    "  def __len__(self):\n",
    "    return len(self.data_path_list)\n",
    "  \n",
    "  def __iter__(self):\n",
    "    return self\n",
    "\n",
    "  def __next__(self):\n",
    "    if self.index >= len(self.data_path_list):\n",
    "      raise StopIteration\n",
    "    index = self.index\n",
    "    self.index += 1\n",
    "    row_path = os.path.join(self.row_path, self.data_path_list[index]+'.pkl')\n",
    "    feat_path = os.path.join(self.feat_path, self.data_path_list[index]+'.npy')\n",
    "    df = pd.read_pickle(row_path)\n",
    "    feat = np.load(feat_path, allow_pickle=True)\n",
    "    _df = pd.DataFrame()\n",
    "    _df['id'] = df['id']\n",
    "    _df['rel_orgs'] = df['rel_org_a_companies_code'].map(rel_orgs_wrap)\n",
    "    _df['date'] = df['date_time'].apply(lambda x: x.date())\n",
    "    _df['feat'] = _df.apply(lambda x: feat[x.name], axis=1)\n",
    "    df = _df\n",
    "    return df"
   ]
  },
  {
   "cell_type": "code",
   "execution_count": 14,
   "metadata": {},
   "outputs": [
    {
     "name": "stderr",
     "output_type": "stream",
     "text": [
      "100%|██████████| 12/12 [11:22<00:00, 56.88s/it]\n"
     ]
    },
    {
     "data": {
      "text/plain": [
       "(620056, 300)"
      ]
     },
     "execution_count": 14,
     "metadata": {},
     "output_type": "execute_result"
    }
   ],
   "source": [
    "data_sets = ['2020-1', '2020-2', '2020-3', '2020-4', '2020-5', '2020-6', '2020-7', '2020-8', '2020-9', '2020-10', '2020-11', '2020-12']\n",
    "loader = NewsDataSet('data/news_row', 'data/news_embed',  data_sets)\n",
    "G = nx.Graph()\n",
    "for df_month in tqdm(loader):\n",
    "    for _, node in df_month.iterrows():\n",
    "        for org in node['rel_orgs']:\n",
    "            G.add_edge(node.id, org)\n",
    "            G.nodes[node.id]['feat'] = node['feat']\n",
    "ssm = nx.convert_matrix.to_scipy_sparse_matrix(G)\n",
    "feats = map(to_feat, G.nodes)\n",
    "feats = np.stack(list(feats))\n",
    "feats.shape"
   ]
  },
  {
   "cell_type": "code",
   "execution_count": 15,
   "metadata": {},
   "outputs": [],
   "source": [
    "data_prefix = 'data/22mnews/'\n",
    "os.path.exists(data_prefix ) or os.makedirs(data_prefix)\n",
    "sc.sparse.save_npz(data_prefix+'adj_full.npz', ssm)\n",
    "sc.sparse.save_npz(data_prefix+'adj_train.npz', ssm)\n",
    "np.save(data_prefix+'feats.npy', feats)\n",
    "json.dump(dict.fromkeys(range(G.number_of_nodes()), 0), open(data_prefix+'class_map.json', 'w'))\n",
    "role = {'tr': list(range(G.number_of_nodes())), 'va': [], 'te': []}\n",
    "json.dump(role, open(data_prefix+'role.json', 'w'))"
   ]
  }
 ],
 "metadata": {
  "interpreter": {
   "hash": "71c91305e90adff47ae6787603aeb95218900fefb1a1516ad027fdd015aa09e5"
  },
  "kernelspec": {
   "display_name": "Python 3.6.8 64-bit ('gmoco': conda)",
   "language": "python",
   "name": "python3"
  },
  "language_info": {
   "codemirror_mode": {
    "name": "ipython",
    "version": 3
   },
   "file_extension": ".py",
   "mimetype": "text/x-python",
   "name": "python",
   "nbconvert_exporter": "python",
   "pygments_lexer": "ipython3",
   "version": "3.6.8"
  },
  "orig_nbformat": 4
 },
 "nbformat": 4,
 "nbformat_minor": 2
}
